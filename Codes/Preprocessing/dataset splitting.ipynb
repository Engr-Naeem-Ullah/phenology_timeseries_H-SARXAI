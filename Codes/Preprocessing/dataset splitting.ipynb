{
 "cells": [
  {
   "cell_type": "code",
   "execution_count": 2,
   "id": "14486013",
   "metadata": {},
   "outputs": [
    {
     "name": "stdout",
     "output_type": "stream",
     "text": [
      "PHENOLOGY_H1:\n",
      "  Train instances: 1230\n",
      "  Test instances:  813\n",
      "\n",
      "PHENOLOGY_H2:\n",
      "  Train instances: 1230\n",
      "  Test instances:  813\n",
      "\n",
      "PHENOLOGY_H3:\n",
      "  Train instances: 1230\n",
      "  Test instances:  813\n",
      "\n",
      "PHENOLOGY_H4:\n",
      "  Train instances: 1230\n",
      "  Test instances:  813\n",
      "\n"
     ]
    }
   ],
   "source": [
    "import pandas as pd\n",
    "import os\n",
    "\n",
    "# List of file paths\n",
    "file_paths = [\n",
    "    r\"E:\\Abroad period research\\Phenology datasets\\PHENOLOGY_H1.csv\",\n",
    "    r\"E:\\Abroad period research\\Phenology datasets\\PHENOLOGY_H2.csv\",\n",
    "    r\"E:\\Abroad period research\\Phenology datasets\\PHENOLOGY_H3.csv\",\n",
    "    r\"E:\\Abroad period research\\Phenology datasets\\PHENOLOGY_H4.csv\"\n",
    "]\n",
    "\n",
    "# Years for splitting\n",
    "train_years = [2015, 2016, 2017]\n",
    "test_years = [2018, 2019]\n",
    "\n",
    "for file_path in file_paths:\n",
    "    try:\n",
    "        # Load dataset\n",
    "        df = pd.read_csv(file_path)\n",
    "\n",
    "        # Ensure TIME column is datetime or extract year correctly\n",
    "        if not pd.api.types.is_datetime64_any_dtype(df['TIME']):\n",
    "            df['TIME'] = pd.to_datetime(df['TIME'], errors='coerce')\n",
    "\n",
    "        df['YEAR'] = df['TIME'].dt.year\n",
    "\n",
    "        # Split based on year\n",
    "        train_df = df[df['YEAR'].isin(train_years)].drop(columns=['YEAR'])\n",
    "        test_df = df[df['YEAR'].isin(test_years)].drop(columns=['YEAR'])\n",
    "\n",
    "        # Generate new filenames\n",
    "        base_dir = os.path.dirname(file_path)\n",
    "        base_name = os.path.splitext(os.path.basename(file_path))[0]\n",
    "\n",
    "        train_file = os.path.join(base_dir, f\"{base_name}_train.csv\")\n",
    "        test_file = os.path.join(base_dir, f\"{base_name}_test.csv\")\n",
    "\n",
    "        # Save the splits\n",
    "        train_df.to_csv(train_file, index=False)\n",
    "        test_df.to_csv(test_file, index=False)\n",
    "\n",
    "        # Output number of instances\n",
    "        print(f\"{base_name}:\")\n",
    "        print(f\"  Train instances: {len(train_df)}\")\n",
    "        print(f\"  Test instances:  {len(test_df)}\\n\")\n",
    "\n",
    "    except Exception as e:\n",
    "        print(f\"Error processing {file_path}: {e}\")\n"
   ]
  }
 ],
 "metadata": {
  "kernelspec": {
   "display_name": "Python 3",
   "language": "python",
   "name": "python3"
  },
  "language_info": {
   "codemirror_mode": {
    "name": "ipython",
    "version": 3
   },
   "file_extension": ".py",
   "mimetype": "text/x-python",
   "name": "python",
   "nbconvert_exporter": "python",
   "pygments_lexer": "ipython3",
   "version": "3.12.5"
  }
 },
 "nbformat": 4,
 "nbformat_minor": 5
}
