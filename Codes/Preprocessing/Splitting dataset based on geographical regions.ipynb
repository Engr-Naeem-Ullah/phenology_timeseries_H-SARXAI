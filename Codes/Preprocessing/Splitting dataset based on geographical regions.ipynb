{
 "cells": [
  {
   "cell_type": "code",
   "execution_count": 5,
   "id": "ba4580c6",
   "metadata": {},
   "outputs": [
    {
     "name": "stdout",
     "output_type": "stream",
     "text": [
      "Data split and saved into separate CSV files.\n"
     ]
    }
   ],
   "source": [
    "import pandas as pd\n",
    "\n",
    "# Load the main dataset\n",
    "file_path = r\"E:\\Abroad period research\\Phenology datasets\\PHENOLOGY_H4\\PHENOLOGY_H4.csv\"\n",
    "df = pd.read_csv(file_path)\n",
    "\n",
    "# List the specific SPOT_ID values for each region\n",
    "jaen_spots = ['ETParc1', 'ETParc2', 'ETParc3', 'ETParc12']\n",
    "cadiz_spots = ['ETParc4', 'ETParc5', 'ETParc6', 'ETParc7']\n",
    "cordoba_spots = ['ETParc8', 'ETParc9', 'ETParc10', 'ETParc11']\n",
    "sevilla_spots = ['ETParc13', 'ETParc14', 'ETParc15', 'ETParc16']\n",
    "\n",
    "# Filter the dataset for each region based on SPOT_ID\n",
    "df_jaen = df[df['SPOT_ID'].isin(jaen_spots)]\n",
    "df_cadiz = df[df['SPOT_ID'].isin(cadiz_spots)]\n",
    "df_cordoba = df[df['SPOT_ID'].isin(cordoba_spots)]\n",
    "df_sevilla = df[df['SPOT_ID'].isin(sevilla_spots)]\n",
    "\n",
    "# Save the filtered dataframes to separate CSV files\n",
    "output_path = r\"E:\\Abroad period research\\Phenology datasets\\PHENOLOGY_H4\"\n",
    "\n",
    "df_jaen.to_csv(f\"{output_path}\\\\Jaen.csv\", index=False)\n",
    "df_cadiz.to_csv(f\"{output_path}\\\\Cadiz.csv\", index=False)\n",
    "df_cordoba.to_csv(f\"{output_path}\\\\Cordoba.csv\", index=False)\n",
    "df_sevilla.to_csv(f\"{output_path}\\\\Sevilla.csv\", index=False)\n",
    "\n",
    "print(\"Data split and saved into separate CSV files.\")\n"
   ]
  }
 ],
 "metadata": {
  "kernelspec": {
   "display_name": "Python 3",
   "language": "python",
   "name": "python3"
  },
  "language_info": {
   "codemirror_mode": {
    "name": "ipython",
    "version": 3
   },
   "file_extension": ".py",
   "mimetype": "text/x-python",
   "name": "python",
   "nbconvert_exporter": "python",
   "pygments_lexer": "ipython3",
   "version": "3.12.5"
  }
 },
 "nbformat": 4,
 "nbformat_minor": 5
}
