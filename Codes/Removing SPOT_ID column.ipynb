{
 "cells": [
  {
   "cell_type": "code",
   "execution_count": 1,
   "id": "f656120b",
   "metadata": {},
   "outputs": [
    {
     "name": "stdout",
     "output_type": "stream",
     "text": [
      "Removed 'SPOT_ID' from Cadiz.csv\n",
      "Removed 'SPOT_ID' from Cordoba.csv\n",
      "Removed 'SPOT_ID' from Jaen.csv\n",
      "Removed 'SPOT_ID' from Sevilla.csv\n"
     ]
    }
   ],
   "source": [
    "import pandas as pd\n",
    "import os\n",
    "\n",
    "# List of file paths\n",
    "file_paths = [\n",
    "    r\"E:\\Abroad period research\\Phenology datasets\\PHENOLOGY_H1\\Cadiz.csv\",\n",
    "    r\"E:\\Abroad period research\\Phenology datasets\\PHENOLOGY_H1\\Cordoba.csv\",\n",
    "    r\"E:\\Abroad period research\\Phenology datasets\\PHENOLOGY_H1\\Jaen.csv\",\n",
    "    r\"E:\\Abroad period research\\Phenology datasets\\PHENOLOGY_H1\\Sevilla.csv\"\n",
    "]\n",
    "\n",
    "# Loop through each file\n",
    "for file_path in file_paths:\n",
    "    try:\n",
    "        # Load the dataset\n",
    "        df = pd.read_csv(file_path)\n",
    "\n",
    "        # Drop the SPOT_ID column if it exists\n",
    "        if 'SPOT_ID' in df.columns:\n",
    "            df.drop(columns=['SPOT_ID'], inplace=True)\n",
    "            print(f\"Removed 'SPOT_ID' from {os.path.basename(file_path)}\")\n",
    "        else:\n",
    "            print(f\"'SPOT_ID' not found in {os.path.basename(file_path)}\")\n",
    "\n",
    "        # Save the modified DataFrame back to the same file\n",
    "        df.to_csv(file_path, index=False)\n",
    "\n",
    "    except Exception as e:\n",
    "        print(f\"Error processing {file_path}: {e}\")\n"
   ]
  }
 ],
 "metadata": {
  "kernelspec": {
   "display_name": "Python 3",
   "language": "python",
   "name": "python3"
  },
  "language_info": {
   "codemirror_mode": {
    "name": "ipython",
    "version": 3
   },
   "file_extension": ".py",
   "mimetype": "text/x-python",
   "name": "python",
   "nbconvert_exporter": "python",
   "pygments_lexer": "ipython3",
   "version": "3.12.5"
  }
 },
 "nbformat": 4,
 "nbformat_minor": 5
}
